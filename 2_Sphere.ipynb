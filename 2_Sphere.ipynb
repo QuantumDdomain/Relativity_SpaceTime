{
 "cells": [
  {
   "cell_type": "code",
   "execution_count": 5,
   "metadata": {},
   "outputs": [],
   "source": [
    "from sympy import symbols, sin, Matrix\n",
    "from einsteinpy.symbolic import MetricTensor, ChristoffelSymbols, RiemannCurvatureTensor, RicciTensor, RicciScalar"
   ]
  },
  {
   "cell_type": "code",
   "execution_count": 6,
   "metadata": {},
   "outputs": [],
   "source": [
    "# Define coordinates\n",
    "theta, phi = symbols(\"theta phi\")\n",
    "a = symbols(\"a\")  # Corrected this line"
   ]
  },
  {
   "cell_type": "code",
   "execution_count": 7,
   "metadata": {},
   "outputs": [],
   "source": [
    "# Define 2-Sphere Metric\n",
    "g = Matrix([\n",
    "    [a**2, 0],\n",
    "    [0, (a**2) * sin(theta)**2]\n",
    "])"
   ]
  },
  {
   "cell_type": "code",
   "execution_count": 8,
   "metadata": {},
   "outputs": [
    {
     "name": "stdout",
     "output_type": "stream",
     "text": [
      "Christoffel Symbols:\n",
      "[[[0, 0], [0, -sin(theta)*cos(theta)]], [[0, cos(theta)/sin(theta)], [cos(theta)/sin(theta), 0]]]\n",
      "\n",
      "Riemann Curvature Tensor:\n",
      "[[[[0, 0], [0, 0]], [[0, sin(theta)**2], [-sin(theta)**2, 0]]], [[[0, -1], [1, 0]], [[0, 0], [0, 0]]]]\n",
      "\n",
      "Ricci Tensor:\n",
      "[[1, 0], [0, sin(theta)**2]]\n",
      "\n",
      "Ricci Scalar:\n",
      "2/a**2\n"
     ]
    }
   ],
   "source": [
    "# Create Metric Tensor\n",
    "metric = MetricTensor(g.tolist(), (theta, phi))\n",
    "\n",
    "# Compute Christoffel Symbols\n",
    "chris = ChristoffelSymbols.from_metric(metric)\n",
    "\n",
    "# Compute Riemann Tensor\n",
    "riemann = RiemannCurvatureTensor.from_christoffels(chris)\n",
    "\n",
    "# Compute Ricci Tensor\n",
    "ricci = RicciTensor.from_riemann(riemann)\n",
    "\n",
    "# Compute Ricci Scalar\n",
    "ricci_scalar = RicciScalar.from_riccitensor(ricci)\n",
    "\n",
    "# Print results\n",
    "print(\"Christoffel Symbols:\")\n",
    "print(chris.tensor())\n",
    "\n",
    "print(\"\\nRiemann Curvature Tensor:\")\n",
    "print(riemann.tensor())\n",
    "\n",
    "print(\"\\nRicci Tensor:\")\n",
    "print(ricci.tensor())\n",
    "\n",
    "print(\"\\nRicci Scalar:\")\n",
    "print(ricci_scalar.simplify())"
   ]
  }
 ],
 "metadata": {
  "kernelspec": {
   "display_name": "Python 3",
   "language": "python",
   "name": "python3"
  },
  "language_info": {
   "codemirror_mode": {
    "name": "ipython",
    "version": 3
   },
   "file_extension": ".py",
   "mimetype": "text/x-python",
   "name": "python",
   "nbconvert_exporter": "python",
   "pygments_lexer": "ipython3",
   "version": "3.13.1"
  }
 },
 "nbformat": 4,
 "nbformat_minor": 2
}
