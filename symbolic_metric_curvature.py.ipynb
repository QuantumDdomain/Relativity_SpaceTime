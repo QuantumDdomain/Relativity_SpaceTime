{
 "cells": [
  {
   "cell_type": "code",
   "execution_count": 7,
   "metadata": {},
   "outputs": [],
   "source": [
    "import numpy as np\n",
    "import sympy as sp\n",
    "from einsteinpy.symbolic import MetricTensor, ChristoffelSymbols, RiemannCurvatureTensor, RicciTensor, RicciScalar"
   ]
  },
  {
   "cell_type": "code",
   "execution_count": 8,
   "metadata": {},
   "outputs": [],
   "source": [
    "# Define coordinates\n",
    "r, theta = sp.symbols('r theta', real=True)\n",
    "coords = [r, theta]\n",
    "\n",
    "# Define general metric tensor components as functions of r\n",
    "g_rr = sp.Function('g_rr')(r)\n",
    "g_tt = sp.Function('g_tt')(r)"
   ]
  },
  {
   "cell_type": "code",
   "execution_count": 9,
   "metadata": {},
   "outputs": [],
   "source": [
    "# Metric tensor in 2D polar coordinates\n",
    "g = [\n",
    "    [g_rr, 0],\n",
    "    [0, g_tt]\n",
    "]"
   ]
  },
  {
   "cell_type": "code",
   "execution_count": 10,
   "metadata": {},
   "outputs": [],
   "source": [
    "# Create EinsteinPy MetricTensor object\n",
    "metric = MetricTensor(g, coords)\n",
    "\n",
    "# Compute Christoffel symbols\n",
    "ch_symbols = ChristoffelSymbols.from_metric(metric)\n",
    "\n",
    "# Compute Riemann curvature tensor\n",
    "riemann = RiemannCurvatureTensor.from_christoffels(ch_symbols)\n",
    "\n",
    "# Compute Ricci tensor\n",
    "ricci = RicciTensor.from_riemann(riemann)\n",
    "\n",
    "# Compute Ricci scalar\n",
    "ricci_scalar = RicciScalar.from_riccitensor(ricci)"
   ]
  },
  {
   "cell_type": "code",
   "execution_count": 11,
   "metadata": {},
   "outputs": [
    {
     "name": "stdout",
     "output_type": "stream",
     "text": [
      "\n",
      "Christoffel Symbols:\n",
      "Γ^0_00 = Derivative(g_rr(r), r)/(2*g_rr(r))\n",
      "Γ^0_01 = 0\n",
      "Γ^0_10 = 0\n",
      "Γ^0_11 = -Derivative(g_tt(r), r)/(2*g_rr(r))\n",
      "Γ^1_00 = 0\n",
      "Γ^1_01 = Derivative(g_tt(r), r)/(2*g_tt(r))\n",
      "Γ^1_10 = Derivative(g_tt(r), r)/(2*g_tt(r))\n",
      "Γ^1_11 = 0\n"
     ]
    }
   ],
   "source": [
    "# Display results in structured format\n",
    "print(\"\\nChristoffel Symbols:\")\n",
    "for i in range(2):\n",
    "    for j in range(2):\n",
    "        for k in range(2):\n",
    "            print(f\"Γ^{i}_{j}{k} =\", ch_symbols[i, j, k])"
   ]
  },
  {
   "cell_type": "code",
   "execution_count": 12,
   "metadata": {},
   "outputs": [
    {
     "name": "stdout",
     "output_type": "stream",
     "text": [
      "\n",
      "Riemann Tensor:\n",
      "R^0_000 = 0\n",
      "R^0_001 = 0\n",
      "R^0_010 = 0\n",
      "R^0_011 = 0\n",
      "R^0_100 = 0\n",
      "R^0_101 = -Derivative(g_tt(r), (r, 2))/(2*g_rr(r)) + Derivative(g_tt(r), r)**2/(4*g_rr(r)*g_tt(r)) + Derivative(g_rr(r), r)*Derivative(g_tt(r), r)/(4*g_rr(r)**2)\n",
      "R^0_110 = Derivative(g_tt(r), (r, 2))/(2*g_rr(r)) - Derivative(g_tt(r), r)**2/(4*g_rr(r)*g_tt(r)) - Derivative(g_rr(r), r)*Derivative(g_tt(r), r)/(4*g_rr(r)**2)\n",
      "R^0_111 = 0\n",
      "R^1_000 = 0\n",
      "R^1_001 = Derivative(g_tt(r), (r, 2))/(2*g_tt(r)) - Derivative(g_tt(r), r)**2/(4*g_tt(r)**2) - Derivative(g_rr(r), r)*Derivative(g_tt(r), r)/(4*g_rr(r)*g_tt(r))\n",
      "R^1_010 = -Derivative(g_tt(r), (r, 2))/(2*g_tt(r)) + Derivative(g_tt(r), r)**2/(4*g_tt(r)**2) + Derivative(g_rr(r), r)*Derivative(g_tt(r), r)/(4*g_rr(r)*g_tt(r))\n",
      "R^1_011 = 0\n",
      "R^1_100 = 0\n",
      "R^1_101 = 0\n",
      "R^1_110 = 0\n",
      "R^1_111 = 0\n"
     ]
    }
   ],
   "source": [
    "print(\"\\nRiemann Tensor:\")\n",
    "for i in range(2):\n",
    "    for j in range(2):\n",
    "        for k in range(2):\n",
    "            for l in range(2):\n",
    "                print(f\"R^{i}_{j}{k}{l} =\", riemann[i, j, k, l])  # Fixed formatting"
   ]
  },
  {
   "cell_type": "code",
   "execution_count": 13,
   "metadata": {},
   "outputs": [
    {
     "name": "stdout",
     "output_type": "stream",
     "text": [
      "\n",
      "Ricci Tensor:\n",
      "R_00 = -Derivative(g_tt(r), (r, 2))/(2*g_tt(r)) + Derivative(g_tt(r), r)**2/(4*g_tt(r)**2) + Derivative(g_rr(r), r)*Derivative(g_tt(r), r)/(4*g_rr(r)*g_tt(r))\n",
      "R_01 = 0\n",
      "R_10 = 0\n",
      "R_11 = -Derivative(g_tt(r), (r, 2))/(2*g_rr(r)) + Derivative(g_tt(r), r)**2/(4*g_rr(r)*g_tt(r)) + Derivative(g_rr(r), r)*Derivative(g_tt(r), r)/(4*g_rr(r)**2)\n"
     ]
    }
   ],
   "source": [
    "print(\"\\nRicci Tensor:\")\n",
    "for i in range(2):\n",
    "    for j in range(2):\n",
    "        print(f\"R_{i}{j} =\", ricci[i, j])\n"
   ]
  },
  {
   "cell_type": "code",
   "execution_count": 14,
   "metadata": {},
   "outputs": [
    {
     "name": "stdout",
     "output_type": "stream",
     "text": [
      "\n",
      "Ricci Scalar:\n",
      "R = (-2*g_rr(r)*g_tt(r)*Derivative(g_tt(r), (r, 2)) + g_rr(r)*Derivative(g_tt(r), r)**2 + g_tt(r)*Derivative(g_rr(r), r)*Derivative(g_tt(r), r))/(2*g_rr(r)**2*g_tt(r)**2)\n"
     ]
    }
   ],
   "source": [
    "print(\"\\nRicci Scalar:\")\n",
    "print(f\"R =\", ricci_scalar.expr)"
   ]
  },
  {
   "cell_type": "code",
   "execution_count": null,
   "metadata": {},
   "outputs": [],
   "source": []
  }
 ],
 "metadata": {
  "kernelspec": {
   "display_name": "Python 3",
   "language": "python",
   "name": "python3"
  },
  "language_info": {
   "codemirror_mode": {
    "name": "ipython",
    "version": 3
   },
   "file_extension": ".py",
   "mimetype": "text/x-python",
   "name": "python",
   "nbconvert_exporter": "python",
   "pygments_lexer": "ipython3",
   "version": "3.13.1"
  }
 },
 "nbformat": 4,
 "nbformat_minor": 2
}
